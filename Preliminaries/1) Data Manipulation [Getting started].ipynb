{
 "cells": [
  {
   "cell_type": "markdown",
   "id": "88d18ba2",
   "metadata": {},
   "source": [
    "# 1) Data Manipulation [Getting started]"
   ]
  },
  {
   "cell_type": "code",
   "execution_count": 8,
   "id": "116ddc28",
   "metadata": {},
   "outputs": [],
   "source": [
    "import torch"
   ]
  },
  {
   "cell_type": "markdown",
   "id": "c373b677",
   "metadata": {},
   "source": [
    "## Creating Tensors"
   ]
  },
  {
   "cell_type": "markdown",
   "id": "24bab5ac",
   "metadata": {},
   "source": [
    "A *tensor* represents a (possibly multi-dimensional) array of numerical values. With one axis, a tensor is called a *vector*. With two axes, a tensor is called a *matrix*. With $k > 2$ axes, we\n",
    "drop the specialized names and just refer to the object as a *$k^\\text{th}$ order tensor*."
   ]
  },
  {
   "cell_type": "markdown",
   "id": "40e718da",
   "metadata": {},
   "source": [
    "In torch, there are several functions for creating new tensors prepopulated with values. For example, by invoking arange(n), we can create a vector of evenly spaced values, starting at 0 (included) and ending at n (not included). By default, the interval size is 1. "
   ]
  },
  {
   "cell_type": "code",
   "execution_count": 9,
   "id": "5e43126d",
   "metadata": {},
   "outputs": [
    {
     "data": {
      "text/plain": [
       "tensor([ 0.,  1.,  2.,  3.,  4.,  5.,  6.,  7.,  8.,  9., 10., 11.])"
      ]
     },
     "execution_count": 9,
     "metadata": {},
     "output_type": "execute_result"
    }
   ],
   "source": [
    "x = torch.arange(12, dtype=torch.float32)\n",
    "x"
   ]
  },
  {
   "cell_type": "markdown",
   "id": "6a573202",
   "metadata": {},
   "source": [
    "Each of these values is called an element of the tensor. The tensor x contains 12 elements.\n",
    "We can inspect the total number of elements in a tensor via its numel **method**."
   ]
  },
  {
   "cell_type": "code",
   "execution_count": 20,
   "id": "908b26b3",
   "metadata": {},
   "outputs": [
    {
     "data": {
      "text/plain": [
       "12"
      ]
     },
     "execution_count": 20,
     "metadata": {},
     "output_type": "execute_result"
    }
   ],
   "source": [
    "x.numel()"
   ]
  },
  {
   "cell_type": "markdown",
   "id": "081d7959",
   "metadata": {},
   "source": [
    "We can access a tensor’s shape (the length along each axis) by inspecting its shape **attribute**.\n",
    "Because we are dealing with a vector here, the shape contains just a single element and is\n",
    "identical to the size."
   ]
  },
  {
   "cell_type": "code",
   "execution_count": 22,
   "id": "5f482a3b",
   "metadata": {},
   "outputs": [
    {
     "data": {
      "text/plain": [
       "torch.Size([12])"
      ]
     },
     "execution_count": 22,
     "metadata": {},
     "output_type": "execute_result"
    }
   ],
   "source": [
    "x.shape"
   ]
  },
  {
   "cell_type": "markdown",
   "id": "0a51372e",
   "metadata": {},
   "source": [
    "We can change the shape of a tensor without altering its size or values, by invoking reshape (**method**).\n",
    "For example, we can transform our vector x whose shape is (12,) to a matrix X with shape (3,\n",
    "4). This new tensor retains all elements but reconfigures them into a matrix."
   ]
  },
  {
   "cell_type": "code",
   "execution_count": 33,
   "id": "4870b724",
   "metadata": {},
   "outputs": [
    {
     "data": {
      "text/plain": [
       "tensor([[ 0.,  1.,  2.,  3.],\n",
       "        [ 4.,  5.,  6.,  7.],\n",
       "        [ 8.,  9., 10., 11.]])"
      ]
     },
     "execution_count": 33,
     "metadata": {},
     "output_type": "execute_result"
    }
   ],
   "source": [
    "y=x.reshape(3,4)\n",
    "y "
   ]
  },
  {
   "cell_type": "markdown",
   "id": "7b8192f1",
   "metadata": {},
   "source": [
    "Notice that the elements of our vector are laid out one row at a time and thus x[3] == y[0,3]."
   ]
  },
  {
   "cell_type": "code",
   "execution_count": 37,
   "id": "a5506f16",
   "metadata": {},
   "outputs": [
    {
     "name": "stdout",
     "output_type": "stream",
     "text": [
      "tensor(3.)\n",
      "tensor(3.)\n"
     ]
    },
    {
     "data": {
      "text/plain": [
       "tensor(True)"
      ]
     },
     "execution_count": 37,
     "metadata": {},
     "output_type": "execute_result"
    }
   ],
   "source": [
    "print(x[3])\n",
    "print(y[0,3])\n",
    "x[3]==y[0,3]"
   ]
  },
  {
   "cell_type": "markdown",
   "id": "472674ef",
   "metadata": {},
   "source": [
    "Note that specifying every shape component to reshape is redundant. Because we already\n",
    "know our tensor’s size, we can work out one component of the shape given the rest. \n",
    "\n",
    "To automatically infer one component of the shape, we can place a -1 for the shape component that should be inferred automatically. In our case, instead of calling x.reshape(3, 4), we could have\n",
    "equivalently called x.reshape(-1, 4) or x.reshape(3, -1)."
   ]
  },
  {
   "cell_type": "code",
   "execution_count": 49,
   "id": "6ea75165",
   "metadata": {},
   "outputs": [
    {
     "name": "stdout",
     "output_type": "stream",
     "text": [
      "tensor([[True, True, True, True],\n",
      "        [True, True, True, True],\n",
      "        [True, True, True, True]])\n",
      "----------------------------------\n",
      "tensor([[True, True, True, True],\n",
      "        [True, True, True, True],\n",
      "        [True, True, True, True]])\n"
     ]
    }
   ],
   "source": [
    "print(x.reshape(3,4)==x.reshape(-1,4))\n",
    "print(\"----------------------------------\")\n",
    "print(x.reshape(3,4)==x.reshape(3,-1))"
   ]
  },
  {
   "cell_type": "markdown",
   "id": "d4e898c7",
   "metadata": {},
   "source": [
    "## Frecuently used tensors"
   ]
  },
  {
   "cell_type": "markdown",
   "id": "a1161124",
   "metadata": {},
   "source": [
    "Practitioners often need to work with tensors initialized to contain all zeros or ones. We\n",
    "can construct a tensor with all elements set to zero and a shape of (2, 3, 4) via the **zeros\n",
    "function**."
   ]
  },
  {
   "cell_type": "code",
   "execution_count": 51,
   "id": "41daf524",
   "metadata": {},
   "outputs": [
    {
     "data": {
      "text/plain": [
       "tensor([[[0., 0., 0., 0.],\n",
       "         [0., 0., 0., 0.],\n",
       "         [0., 0., 0., 0.]],\n",
       "\n",
       "        [[0., 0., 0., 0.],\n",
       "         [0., 0., 0., 0.],\n",
       "         [0., 0., 0., 0.]]])"
      ]
     },
     "execution_count": 51,
     "metadata": {},
     "output_type": "execute_result"
    }
   ],
   "source": [
    "torch.zeros(2,3,4)"
   ]
  },
  {
   "cell_type": "markdown",
   "id": "b9cfff6b",
   "metadata": {},
   "source": [
    "Similarly, we can create a tensor with all ones by invoking **ones**."
   ]
  },
  {
   "cell_type": "code",
   "execution_count": 52,
   "id": "3f3dc64a",
   "metadata": {},
   "outputs": [
    {
     "data": {
      "text/plain": [
       "tensor([[[1., 1., 1., 1.],\n",
       "         [1., 1., 1., 1.],\n",
       "         [1., 1., 1., 1.]],\n",
       "\n",
       "        [[1., 1., 1., 1.],\n",
       "         [1., 1., 1., 1.],\n",
       "         [1., 1., 1., 1.]]])"
      ]
     },
     "execution_count": 52,
     "metadata": {},
     "output_type": "execute_result"
    }
   ],
   "source": [
    "torch.ones(2,3,4)"
   ]
  },
  {
   "cell_type": "markdown",
   "id": "11b24086",
   "metadata": {},
   "source": [
    "We often wish to sample each element **randomly** (and independently) from a given probability\n",
    "distribution. For example, the parameters of neural networks are often initialized randomly.\n",
    "The following snippet creates a tensor with elements drawn from a standard Gaussian (normal) distribution with mean 0 and standard deviation 1.\n"
   ]
  },
  {
   "cell_type": "code",
   "execution_count": 53,
   "id": "11bf81ff",
   "metadata": {},
   "outputs": [
    {
     "data": {
      "text/plain": [
       "tensor([[-1.7191,  2.4488,  0.3148, -1.1190],\n",
       "        [ 0.1569,  1.0005, -0.6721,  0.9294],\n",
       "        [ 0.4815, -1.5686, -0.4963, -0.1362]])"
      ]
     },
     "execution_count": 53,
     "metadata": {},
     "output_type": "execute_result"
    }
   ],
   "source": [
    "torch.randn(3, 4)"
   ]
  },
  {
   "cell_type": "markdown",
   "id": "6d589acb",
   "metadata": {},
   "source": [
    "Finally, we can construct tensors by supplying the exact values for each element by supplying\n",
    "(possibly nested) Python list(s) containing numerical literals. Here, we construct a matrix\n",
    "with a list of lists, where the outermost list corresponds to axis 0, and the inner list to axis\n",
    "1."
   ]
  },
  {
   "cell_type": "code",
   "execution_count": 55,
   "id": "b7f6da9e",
   "metadata": {},
   "outputs": [
    {
     "data": {
      "text/plain": [
       "tensor([[1, 2, 3],\n",
       "        [4, 5, 6],\n",
       "        [7, 8, 9]])"
      ]
     },
     "execution_count": 55,
     "metadata": {},
     "output_type": "execute_result"
    }
   ],
   "source": [
    "torch.tensor([[1,2,3],[4,5,6],[7,8,9]])"
   ]
  }
 ],
 "metadata": {
  "kernelspec": {
   "display_name": "Python 3 (ipykernel)",
   "language": "python",
   "name": "python3"
  },
  "language_info": {
   "codemirror_mode": {
    "name": "ipython",
    "version": 3
   },
   "file_extension": ".py",
   "mimetype": "text/x-python",
   "name": "python",
   "nbconvert_exporter": "python",
   "pygments_lexer": "ipython3",
   "version": "3.9.16"
  }
 },
 "nbformat": 4,
 "nbformat_minor": 5
}
